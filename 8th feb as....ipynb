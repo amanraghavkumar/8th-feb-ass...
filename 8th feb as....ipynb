{
 "cells": [
  {
   "cell_type": "markdown",
   "id": "9c35cc65",
   "metadata": {},
   "source": [
    "Q1. What is abstraction in oops? explain with an example."
   ]
  },
  {
   "cell_type": "markdown",
   "id": "3079aca5",
   "metadata": {},
   "source": [
    "* Abstraction is one of the fundamental principles of Object-Oriented Programming (OOP). It involves the concept of hiding the complex implementation details of an object and exposing only the essential features or functionalities. \n",
    "for example:"
   ]
  },
  {
   "cell_type": "code",
   "execution_count": 1,
   "id": "46589a51",
   "metadata": {},
   "outputs": [
    {
     "name": "stdout",
     "output_type": "stream",
     "text": [
      "Circle Area: 78.5\n",
      "Drawing a circle with radius 5\n",
      "Rectangle Area: 24\n",
      "Drawing a rectangle with length 4 and width 6\n"
     ]
    }
   ],
   "source": [
    "class Shape:\n",
    "    def area(self):\n",
    "        pass\n",
    "\n",
    "    def draw(self):\n",
    "        pass\n",
    "class Circle(Shape):\n",
    "    def __init__(self, radius):\n",
    "        self.radius = radius\n",
    "\n",
    "    def area(self):\n",
    "        return 3.14 * self.radius * self.radius\n",
    "\n",
    "    def draw(self):\n",
    "        print(f\"Drawing a circle with radius {self.radius}\")\n",
    "class Rectangle(Shape):\n",
    "    def __init__(self, length, width):\n",
    "        self.length = length\n",
    "        self.width = width\n",
    "\n",
    "    def area(self):\n",
    "        return self.length * self.width\n",
    "\n",
    "    def draw(self):\n",
    "        print(f\"Drawing a rectangle with length {self.length} and width {self.width}\")\n",
    "circle = Circle(5)\n",
    "rectangle = Rectangle(4, 6)\n",
    "\n",
    "print(f\"Circle Area: {circle.area()}\")\n",
    "circle.draw()\n",
    "print(f\"Rectangle Area: {rectangle.area()}\")\n",
    "rectangle.draw()"
   ]
  },
  {
   "cell_type": "markdown",
   "id": "84e5b5c4",
   "metadata": {},
   "source": [
    "Q2. Differentiate between abstraction and encapsulation .example with an example."
   ]
  },
  {
   "cell_type": "markdown",
   "id": "e12559b1",
   "metadata": {},
   "source": [
    "        ABSTRACTION:\n",
    "* Abstraction is about hiding the complex implementation details and showing only the essential features of an object.\n",
    "* It allows you to focus on what an object does rather than how it achieves its functionality.\n",
    "for example:"
   ]
  },
  {
   "cell_type": "code",
   "execution_count": 2,
   "id": "f5cd333b",
   "metadata": {},
   "outputs": [
    {
     "name": "stdout",
     "output_type": "stream",
     "text": [
      "Car starting\n",
      "Car stopping\n",
      "Motorcycle starting\n",
      "Motorcycle stopping\n"
     ]
    }
   ],
   "source": [
    "class Vehicle:\n",
    "    def start(self):\n",
    "        pass\n",
    "\n",
    "    def stop(self):\n",
    "        pass\n",
    "\n",
    "class Car(Vehicle):\n",
    "    def start(self):\n",
    "        print(\"Car starting\")\n",
    "\n",
    "    def stop(self):\n",
    "        print(\"Car stopping\")\n",
    "class Motorcycle(Vehicle):\n",
    "    def start(self):\n",
    "        print(\"Motorcycle starting\")\n",
    "\n",
    "    def stop(self):\n",
    "        print(\"Motorcycle stopping\")\n",
    "car = Car()\n",
    "car.start()\n",
    "car.stop()\n",
    "\n",
    "motorcycle = Motorcycle()\n",
    "motorcycle.start()\n",
    "motorcycle.stop()"
   ]
  },
  {
   "cell_type": "markdown",
   "id": "8e4cc3e1",
   "metadata": {},
   "source": [
    "     ENCAPSULATION:\n",
    "* Encapsulation is about bundling the data (attributes) and methods that operate on the data into a single unit (a class).\n",
    "* It restricts direct access to some of the object's components and can be used to hide the internal state of an object.\n",
    "for example:"
   ]
  },
  {
   "cell_type": "code",
   "execution_count": 3,
   "id": "c2626ec1",
   "metadata": {},
   "outputs": [
    {
     "name": "stdout",
     "output_type": "stream",
     "text": [
      "Initial Balance: 1000\n",
      "Balance after deposit: 1500\n",
      "Balance after withdrawal: 1300\n"
     ]
    }
   ],
   "source": [
    "class BankAccount:\n",
    "    def __init__(self, account_number, balance):\n",
    "        self._account_number = account_number  # Encapsulation: data hiding with \"_\"\n",
    "        self._balance = balance\n",
    "\n",
    "    def get_balance(self):\n",
    "        return self._balance\n",
    "\n",
    "    def deposit(self, amount):\n",
    "        if amount > 0:\n",
    "            self._balance += amount\n",
    "\n",
    "    def withdraw(self, amount):\n",
    "        if amount > 0 and amount <= self._balance:\n",
    "            self._balance -= amount\n",
    "\n",
    "account = BankAccount(account_number=\"12345\", balance=1000)\n",
    "print(\"Initial Balance:\", account.get_balance())\n",
    "account.deposit(500)\n",
    "print(\"Balance after deposit:\", account.get_balance())\n",
    "account.withdraw(200)\n",
    "print(\"Balance after withdrawal:\", account.get_balance())"
   ]
  },
  {
   "cell_type": "markdown",
   "id": "e84fd557",
   "metadata": {},
   "source": [
    "Q3. What is abc module in python ? why is it used."
   ]
  },
  {
   "cell_type": "markdown",
   "id": "447b74a9",
   "metadata": {},
   "source": [
    "* The 'abc' module stands for \"Abstract Base Classes.\" It provides the ABC (Abstract Base Class) meta-class and other utilities for working with abstract classes and abstract methods. Abstract classes are classes that cannot be instantiated on their own and are meant to be subclassed by concrete classes. Abstract methods defined in abstract classes must be implemented by their concrete subclasses.\n",
    "* The primary use of the 'abc' module is to support abstract classes and enforce a form of abstraction and encapsulation in object-oriented programming."
   ]
  },
  {
   "cell_type": "markdown",
   "id": "dc24e673",
   "metadata": {},
   "source": [
    "Q4. How can achieve data abstraction?"
   ]
  },
  {
   "cell_type": "markdown",
   "id": "9089420f",
   "metadata": {},
   "source": [
    "* Data abstraction in programming refers to the concept of hiding the complex implementation details of data and exposing only the essential features or functionalities. In object-oriented programming, data abstraction is often achieved through the use of abstract classes and abstract methods.\n",
    "    1. Define an Abstract Base Class (ABC):\n",
    "* Use the 'ABC' meta-class from the abc module to create an abstract base class.\n",
    "* Decorate abstract methods with the @abstractmethod decorator.\n",
    "\n",
    "     2. Create Concrete Classes:\n",
    "* Create concrete classes that inherit from the abstract base class.\n",
    "* Implement the abstract methods in each concrete class."
   ]
  },
  {
   "cell_type": "markdown",
   "id": "ffebafe2",
   "metadata": {},
   "source": [
    "Q5. Can we create an instance of an abstract class?explain your answer."
   ]
  },
  {
   "cell_type": "markdown",
   "id": "ba6a91c9",
   "metadata": {},
   "source": [
    "* No, you cannot create an instance of an abstract class in Python. Abstract classes are meant to be subclassed, and they typically contain one or more abstract methods that have no implementation in the abstract class itself. Abstract methods are placeholders for methods that must be implemented by concrete (non-abstract) subclasses."
   ]
  },
  {
   "cell_type": "code",
   "execution_count": null,
   "id": "e84edc3c",
   "metadata": {},
   "outputs": [],
   "source": []
  }
 ],
 "metadata": {
  "kernelspec": {
   "display_name": "Python 3 (ipykernel)",
   "language": "python",
   "name": "python3"
  },
  "language_info": {
   "codemirror_mode": {
    "name": "ipython",
    "version": 3
   },
   "file_extension": ".py",
   "mimetype": "text/x-python",
   "name": "python",
   "nbconvert_exporter": "python",
   "pygments_lexer": "ipython3",
   "version": "3.10.9"
  }
 },
 "nbformat": 4,
 "nbformat_minor": 5
}
